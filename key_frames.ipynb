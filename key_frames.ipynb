{
 "cells": [
  {
   "cell_type": "code",
   "execution_count": 2,
   "id": "082b9e3c-5065-4a7f-91ed-3e776dd10523",
   "metadata": {},
   "outputs": [],
   "source": [
    "import numpy as np\n",
    "from youtube_transcript_api import YouTubeTranscriptApi\n",
    "from transformers import pipeline\n",
    "from pytubefix import YouTube\n",
    "from Katna.video import Video\n",
    "from Katna.writer import KeyFrameDiskWriter"
   ]
  },
  {
   "cell_type": "code",
   "execution_count": 19,
   "id": "1caa8f2b-a6d9-4ad7-ac2f-adc433c88b2a",
   "metadata": {},
   "outputs": [
    {
     "name": "stdout",
     "output_type": "stream",
     "text": [
      "Downloading: Lecture 7 - Kernels | Stanford CS229: Machine Learning Andrew Ng (Autumn 2018)\n",
      "Downloaded successfully to stanford_lecture_7\n"
     ]
    }
   ],
   "source": [
    "def download_video(youtube_url, save_title, save_path=\"downloads/\"):\n",
    "    try:\n",
    "        # Create YouTube object\n",
    "        yt = YouTube(youtube_url)\n",
    "\n",
    "        # Select the highest resolution stream\n",
    "        stream = yt.streams.get_highest_resolution()\n",
    "\n",
    "        # Download the video\n",
    "        print(f\"Downloading: {yt.title}\")\n",
    "        stream.download(output_path=save_path, filename=save_title)\n",
    "        print(f\"Downloaded successfully to {save_path}\")\n",
    "    except Exception as e:\n",
    "        print(f\"Error downloading video: {e}\")\n",
    "\n",
    "\n",
    "download_video(\"https://www.youtube.com/watch?v=8NYoQiRANpg\", save_title=\"stanford_lecture_7.mp4\", save_path = \"stanford_lecture_7\")"
   ]
  },
  {
   "cell_type": "code",
   "execution_count": 16,
   "id": "0b11ee13-1120-424a-981c-3cb20475ea50",
   "metadata": {},
   "outputs": [
    {
     "name": "stdout",
     "output_type": "stream",
     "text": [
      "FFmpeg Path: /opt/homebrew/bin/ffmpeg\n",
      "Input video file path = /Users/charlesli/Documents/projects/youtube_video_notes/stanford_lecture_7/stanford_lecture_7.mp4\n",
      "Large Video (duration = 80 min), will split into smaller videos \n",
      "Video split complete.\n"
     ]
    },
    {
     "name": "stderr",
     "output_type": "stream",
     "text": [
      "/Library/Frameworks/Python.framework/Versions/3.11/lib/python3.11/site-packages/sklearn/cluster/_kmeans.py:1416: FutureWarning: The default value of `n_init` will change from 10 to 'auto' in 1.4. Set the value of `n_init` explicitly to suppress the warning\n",
      "  super()._check_params_vs_input(X, default_n_init=10)\n",
      "/Library/Frameworks/Python.framework/Versions/3.11/lib/python3.11/site-packages/sklearn/cluster/_kmeans.py:1416: FutureWarning: The default value of `n_init` will change from 10 to 'auto' in 1.4. Set the value of `n_init` explicitly to suppress the warning\n",
      "  super()._check_params_vs_input(X, default_n_init=10)\n",
      "/Library/Frameworks/Python.framework/Versions/3.11/lib/python3.11/site-packages/sklearn/cluster/_kmeans.py:1416: FutureWarning: The default value of `n_init` will change from 10 to 'auto' in 1.4. Set the value of `n_init` explicitly to suppress the warning\n",
      "  super()._check_params_vs_input(X, default_n_init=10)\n",
      "/Library/Frameworks/Python.framework/Versions/3.11/lib/python3.11/site-packages/sklearn/cluster/_kmeans.py:1416: FutureWarning: The default value of `n_init` will change from 10 to 'auto' in 1.4. Set the value of `n_init` explicitly to suppress the warning\n",
      "  super()._check_params_vs_input(X, default_n_init=10)\n",
      "/Library/Frameworks/Python.framework/Versions/3.11/lib/python3.11/site-packages/sklearn/cluster/_kmeans.py:1416: FutureWarning: The default value of `n_init` will change from 10 to 'auto' in 1.4. Set the value of `n_init` explicitly to suppress the warning\n",
      "  super()._check_params_vs_input(X, default_n_init=10)\n",
      "/Library/Frameworks/Python.framework/Versions/3.11/lib/python3.11/site-packages/sklearn/cluster/_kmeans.py:1416: FutureWarning: The default value of `n_init` will change from 10 to 'auto' in 1.4. Set the value of `n_init` explicitly to suppress the warning\n",
      "  super()._check_params_vs_input(X, default_n_init=10)\n"
     ]
    },
    {
     "name": "stdout",
     "output_type": "stream",
     "text": [
      "Completed processing for :  /Users/charlesli/Documents/projects/youtube_video_notes/stanford_lecture_7/stanford_lecture_7.mp4\n",
      "Timestamps for Keyframes: []\n"
     ]
    }
   ],
   "source": [
    "import os\n",
    "\n",
    "os.environ[\"IMAGEIO_FFMPEG_EXE\"] = \"/opt/homebrew/bin/ffmpeg\"\n",
    "os.environ[\"FFMPEG_BINARY\"] = \"/opt/homebrew/bin/ffmpeg\"\n",
    "print(\"FFmpeg Path:\", os.environ[\"IMAGEIO_FFMPEG_EXE\"])\n",
    "\n",
    "\n",
    "vd = Video()\n",
    "\n",
    "no_of_frames_to_returned = 3\n",
    "\n",
    "video_file_path = \"/Users/charlesli/Documents/projects/youtube_video_notes/stanford_lecture_7/stanford_lecture_7.mp4\"\n",
    "\n",
    "diskwriter = KeyFrameDiskWriter(location=\"keyframes\")\n",
    "\n",
    "# Video file path\n",
    "# video_file_path = os.path.join(\".\", \"tests\", \"data\", \"pos_video.mp4\")\n",
    "\n",
    "print(f\"Input video file path = {video_file_path}\")\n",
    "\n",
    "diskwriter = KeyFrameDiskWriter(location=\"selectedframes\")\n",
    "\n",
    "# extract keyframes and process data with diskwriter\n",
    "vd.extract_video_keyframes(\n",
    "   no_of_frames=no_of_frames_to_returned, file_path=video_file_path,\n",
    "   writer=diskwriter,\n",
    ")"
   ]
  }
 ],
 "metadata": {
  "kernelspec": {
   "display_name": "Python 3 (ipykernel)",
   "language": "python",
   "name": "python3"
  },
  "language_info": {
   "codemirror_mode": {
    "name": "ipython",
    "version": 3
   },
   "file_extension": ".py",
   "mimetype": "text/x-python",
   "name": "python",
   "nbconvert_exporter": "python",
   "pygments_lexer": "ipython3",
   "version": "3.11.4"
  }
 },
 "nbformat": 4,
 "nbformat_minor": 5
}
